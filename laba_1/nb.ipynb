{
 "cells": [
  {
   "cell_type": "markdown",
   "metadata": {},
   "source": [
    "### Працюємо з програмою на Python в інтерактивному режимі\n",
    ">будемо пояснювати код програми у кожній комірці;"
   ]
  },
  {
   "cell_type": "markdown",
   "metadata": {},
   "source": [
    "- комірка здійснює імпорт всіх необідних для роботи бібліотек:"
   ]
  },
  {
   "cell_type": "code",
   "execution_count": 6,
   "metadata": {},
   "outputs": [],
   "source": [
    "from datetime import datetime\n",
    "from time import time, localtime, strftime "
   ]
  },
  {
   "cell_type": "markdown",
   "metadata": {},
   "source": [
    "-  комірка задає змінні:"
   ]
  },
  {
   "cell_type": "code",
   "execution_count": 7,
   "metadata": {},
   "outputs": [],
   "source": [
    "name = \"rostik\"\n",
    "location = \"Lviv\""
   ]
  },
  {
   "cell_type": "markdown",
   "metadata": {},
   "source": [
    "- здійснимо вивід тексту за допомогою команди `print`:"
   ]
  },
  {
   "cell_type": "code",
   "execution_count": 8,
   "metadata": {},
   "outputs": [
    {
     "name": "stdout",
     "output_type": "stream",
     "text": [
      "oleg почав вчитися програмуванню 2023-09-20 13:16:46.531538. Lviv є найкращим містом!\n"
     ]
    }
   ],
   "source": [
    "print(f\"{name} почав вчитися програмуванню {datetime.now()}. {location} є найкращим містом!\")"
   ]
  },
  {
   "cell_type": "markdown",
   "metadata": {},
   "source": [
    "- попрактикуємось з комірками пісял того як модифікували код додавши нову бібліотеку."
   ]
  },
  {
   "cell_type": "code",
   "execution_count": 9,
   "metadata": {},
   "outputs": [
    {
     "name": "stdout",
     "output_type": "stream",
     "text": [
      "oleg почав вчитись програмуванню time.struct_time(tm_year=2023, tm_mon=9, tm_mday=20, tm_hour=13, tm_min=16, tm_sec=46, tm_wday=2, tm_yday=263, tm_isdst=0)\n"
     ]
    }
   ],
   "source": [
    "print(f\"{name} почав вчитись програмуванню {localtime(time())}\")"
   ]
  },
  {
   "cell_type": "markdown",
   "metadata": {},
   "source": [
    ">Запитались у ChatGPT як вивести час у зрозумілому форматі "
   ]
  },
  {
   "cell_type": "code",
   "execution_count": 10,
   "metadata": {},
   "outputs": [
    {
     "name": "stdout",
     "output_type": "stream",
     "text": [
      "oleg почав програмувати: 20-09-2023 13:16:46 \n",
      "Я ❤ програмування.\n"
     ]
    }
   ],
   "source": [
    "current_time = time()\n",
    "local_time = localtime(current_time) \n",
    "\n",
    "formatted_time = strftime(\"%d-%m-%Y %H:%M:%S\", local_time)\n",
    "\n",
    "print(f\"{name} почав програмувати:\", formatted_time,\"\\nЯ \\u2764 програмування.\")\n"
   ]
  }
 ],
 "metadata": {
  "kernelspec": {
   "display_name": "Python 3",
   "language": "python",
   "name": "python3"
  },
  "language_info": {
   "codemirror_mode": {
    "name": "ipython",
    "version": 3
   },
   "file_extension": ".py",
   "mimetype": "text/x-python",
   "name": "python",
   "nbconvert_exporter": "python",
   "pygments_lexer": "ipython3",
   "version": "3.11.5"
  },
  "orig_nbformat": 4
 },
 "nbformat": 4,
 "nbformat_minor": 2
}
