{
 "cells": [
  {
   "cell_type": "code",
   "execution_count": 4,
   "metadata": {},
   "outputs": [
    {
     "name": "stdout",
     "output_type": "stream",
     "text": [
      "Ура, я здав екзамен\n"
     ]
    }
   ],
   "source": [
    "class Exam:\n",
    "    def __init__(self) -> None:\n",
    "        self.rechenna = \"Ура, я здав екзамен\"\n",
    "\n",
    "    @property\n",
    "    def strichka(self):\n",
    "        return f\"{self.rechenna}\"\n",
    "\n",
    "my_Exam = Exam()\n",
    "print(my_Exam.strichka)\n"
   ]
  }
 ],
 "metadata": {
  "kernelspec": {
   "display_name": "Python 3",
   "language": "python",
   "name": "python3"
  },
  "language_info": {
   "codemirror_mode": {
    "name": "ipython",
    "version": 3
   },
   "file_extension": ".py",
   "mimetype": "text/x-python",
   "name": "python",
   "nbconvert_exporter": "python",
   "pygments_lexer": "ipython3",
   "version": "3.12.1"
  }
 },
 "nbformat": 4,
 "nbformat_minor": 2
}
